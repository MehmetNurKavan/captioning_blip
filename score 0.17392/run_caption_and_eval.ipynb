{
 "cells": [
  {
   "cell_type": "code",
   "execution_count": null,
   "id": "72a432f2",
   "metadata": {},
   "outputs": [],
   "source": [
    "#!pip install transformers torch torchvision timm sentence-transformers pandas numpy scipy"
   ]
  },
  {
   "cell_type": "code",
   "execution_count": 1,
   "id": "413a41d1",
   "metadata": {},
   "outputs": [],
   "source": [
    "import os\n",
    "import pandas as pd\n",
    "import numpy as np\n",
    "from PIL import Image\n",
    "from tqdm import tqdm\n",
    "from transformers import BlipProcessor, BlipForConditionalGeneration\n",
    "from sentence_transformers import SentenceTransformer\n",
    "from numpy import cov, trace, iscomplexobj\n",
    "from scipy.linalg import sqrtm"
   ]
  },
  {
   "cell_type": "code",
   "execution_count": 2,
   "id": "0968b8a4",
   "metadata": {},
   "outputs": [
    {
     "name": "stdout",
     "output_type": "stream",
     "text": [
      "['checkpoint-8013', 'config.json', 'generation_config.json', 'model.safetensors', 'preprocessor_config.json', 'special_tokens_map.json', 'tokenizer.json', 'tokenizer_config.json', 'vocab.txt']\n",
      "True\n"
     ]
    }
   ],
   "source": [
    "import os\n",
    "\n",
    "print(os.listdir(\"kaggle/working/blip-finetuned\"))\n",
    "print(\"preprocessor_config.json\" in os.listdir(\"kaggle/working/blip-finetuned\"))"
   ]
  },
  {
   "cell_type": "code",
   "execution_count": 3,
   "id": "aee4fa90",
   "metadata": {},
   "outputs": [
    {
     "name": "stderr",
     "output_type": "stream",
     "text": [
      "Using a slow image processor as `use_fast` is unset and a slow processor was saved with this model. `use_fast=True` will be the default behavior in v4.52, even if the model was saved with a slow processor. This will result in minor differences in outputs. You'll still be able to use a slow processor with `use_fast=False`.\n"
     ]
    }
   ],
   "source": [
    "# 1. Fine-Tunnig yapılan BLIP MODELI ve PROCESSOR'I YÜKLE\n",
    "# Klasör yolları\n",
    "processor_path = \"kaggle/working/blip-finetuned\"\n",
    "model_path = \"kaggle/working/blip-finetuned/checkpoint-8013\"\n",
    "\n",
    "# Yükleme\n",
    "caption_processor = BlipProcessor.from_pretrained(processor_path, local_files_only=True)\n",
    "caption_model = BlipForConditionalGeneration.from_pretrained(model_path, local_files_only=True)"
   ]
  },
  {
   "cell_type": "code",
   "execution_count": null,
   "id": "955303a9",
   "metadata": {},
   "outputs": [],
   "source": [
    "# Test dosyası ve klasörü\n",
    "test_csv = 'test.csv'\n",
    "test_images = 'test/test/'\n",
    "\n",
    "test_df = pd.read_csv(test_csv)\n",
    "captions = []"
   ]
  },
  {
   "cell_type": "code",
   "execution_count": null,
   "id": "7dc07716",
   "metadata": {},
   "outputs": [
    {
     "name": "stdout",
     "output_type": "stream",
     "text": [
      "Caption üretimi başlıyor...\n"
     ]
    },
    {
     "name": "stderr",
     "output_type": "stream",
     "text": [
      "100%|██████████| 3771/3771 [3:17:12<00:00,  3.14s/it]  \n"
     ]
    }
   ],
   "source": [
    "# RESİMLERDEN CAPTION ÜRET\n",
    "print(\"Caption üretimi başlıyor...\")\n",
    "for idx, row in tqdm(test_df.iterrows(), total=len(test_df)):\n",
    "    image_path = os.path.join(\"test/test\", str(row[\"image_id\"]) + \".jpg\")\n",
    "    image = Image.open(image_path).convert(\"RGB\")\n",
    "    \n",
    "    inputs = caption_processor(image, return_tensors=\"pt\")\n",
    "    out = caption_model.generate(**inputs)\n",
    "    caption = caption_processor.decode(out[0], skip_special_tokens=True)\n",
    "    \n",
    "    captions.append(caption)"
   ]
  },
  {
   "cell_type": "code",
   "execution_count": null,
   "id": "71c8df6f",
   "metadata": {},
   "outputs": [
    {
     "name": "stdout",
     "output_type": "stream",
     "text": [
      "Captionlar submission.csv dosyasına kaydedildi.\n"
     ]
    }
   ],
   "source": [
    "# SUBMISSION DOSYASI OLUŞTUR\n",
    "submission_df = pd.DataFrame({\n",
    "    \"image_id\": test_df[\"image_id\"],\n",
    "    \"caption\": captions\n",
    "})\n",
    "submission_df.to_csv(\"submission.csv\", index=False)\n",
    "print(\"Captionlar submission.csv dosyasına kaydedildi.\")"
   ]
  }
 ],
 "metadata": {
  "kernelspec": {
   "display_name": "base",
   "language": "python",
   "name": "python3"
  },
  "language_info": {
   "codemirror_mode": {
    "name": "ipython",
    "version": 3
   },
   "file_extension": ".py",
   "mimetype": "text/x-python",
   "name": "python",
   "nbconvert_exporter": "python",
   "pygments_lexer": "ipython3",
   "version": "3.10.15"
  }
 },
 "nbformat": 4,
 "nbformat_minor": 5
}
