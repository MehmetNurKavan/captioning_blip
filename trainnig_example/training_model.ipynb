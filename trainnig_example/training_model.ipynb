{
 "cells": [
  {
   "cell_type": "code",
   "execution_count": null,
   "id": "153228fd",
   "metadata": {},
   "outputs": [],
   "source": [
    "#pip install transformers timm datasets torch torchvision"
   ]
  },
  {
   "cell_type": "code",
   "execution_count": 1,
   "id": "a3368002",
   "metadata": {},
   "outputs": [],
   "source": [
    "import os\n",
    "import pandas as pd\n",
    "from PIL import Image\n",
    "from torch.utils.data import Dataset, DataLoader\n",
    "from transformers import BlipProcessor, BlipForConditionalGeneration, TrainingArguments, Trainer\n",
    "import torch"
   ]
  },
  {
   "cell_type": "code",
   "execution_count": 2,
   "id": "4234529e",
   "metadata": {},
   "outputs": [
    {
     "name": "stderr",
     "output_type": "stream",
     "text": [
      "Using a slow image processor as `use_fast` is unset and a slow processor was saved with this model. `use_fast=True` will be the default behavior in v4.52, even if the model was saved with a slow processor. This will result in minor differences in outputs. You'll still be able to use a slow processor with `use_fast=False`.\n"
     ]
    }
   ],
   "source": [
    "# 1. BLIP bileşenleri\n",
    "# Cihaza göre aygıt tanımla\n",
    "device = torch.device(\"cuda\" if torch.cuda.is_available() else \"cpu\")\n",
    "\n",
    "# Model ve işlemciyi yükle\n",
    "#processor = BlipProcessor.from_pretrained(\"Salesforce/blip-image-captioning-base\")\n",
    "#model = BlipForConditionalGeneration.from_pretrained(\"Salesforce/blip-image-captioning-base\").to(device)\n",
    "\n",
    "# Kaydettiğin yerel klasörden modeli ve işlemciyi yükle\n",
    "model = BlipForConditionalGeneration.from_pretrained(\"my_blip_model/\").to(device)\n",
    "processor = BlipProcessor.from_pretrained(\"my_blip_model/\")"
   ]
  },
  {
   "cell_type": "code",
   "execution_count": null,
   "id": "44611d77",
   "metadata": {},
   "outputs": [],
   "source": [
    "# 2. Dataset sınıfı\n",
    "class ImageCaptionDataset(Dataset):\n",
    "    def __init__(self, csv_file, image_folder, processor):\n",
    "        self.data = pd.read_csv(csv_file)\n",
    "        self.image_folder = image_folder\n",
    "        self.processor = processor\n",
    "\n",
    "    def __len__(self):\n",
    "        return len(self.data)\n",
    "\n",
    "    def __getitem__(self, idx):\n",
    "        img_name = str(self.data.iloc[idx]['image_id']) + \".jpg\"\n",
    "        img_path = os.path.join(self.image_folder, img_name)\n",
    "        caption = self.data.iloc[idx]['caption']\n",
    "        image = Image.open(img_path).convert(\"RGB\")\n",
    "    \n",
    "        inputs = self.processor(\n",
    "            images=image,\n",
    "            text=caption,\n",
    "            return_tensors=\"pt\",\n",
    "            padding=\"max_length\",\n",
    "            truncation=True,\n",
    "            max_length=128\n",
    "        )\n",
    "        \n",
    "        # loss için labels eklenmeli\n",
    "        inputs['labels'] = inputs['input_ids']\n",
    "    \n",
    "        inputs = {k: v.squeeze(0) for k, v in inputs.items()}\n",
    "        return inputs"
   ]
  },
  {
   "cell_type": "code",
   "execution_count": null,
   "id": "98ab5aa8",
   "metadata": {},
   "outputs": [],
   "source": [
    "\n",
    "# 3. Dataset ve DataLoader\n",
    "train_dataset = ImageCaptionDataset(\"train.csv\", \"train\", processor)\n",
    "# Kaggle dataset klasörleri\n",
    "#train_csv = '/kaggle/input/obss-intern-competition-2025/train.csv'\n",
    "#train_images = '/kaggle/input/obss-intern-competition-2025/train/train/'"
   ]
  },
  {
   "cell_type": "code",
   "execution_count": null,
   "id": "394c2c9f",
   "metadata": {},
   "outputs": [],
   "source": [
    "# 4. Eğitim argümanları\n",
    "training_args = TrainingArguments(\n",
    "    output_dir=\"./blip-finetuned\", #\"/kaggle/working/blip-finetuned\",\n",
    "    per_device_train_batch_size=4,\n",
    "    num_train_epochs=3,\n",
    "    logging_dir='./logs', # '/kaggle/working/logs'\n",
    "    save_total_limit=1,\n",
    "    save_steps=500,\n",
    "    fp16=torch.cuda.is_available(),\n",
    "    logging_steps=10,\n",
    "    report_to=\"none\",\n",
    ")"
   ]
  },
  {
   "cell_type": "code",
   "execution_count": null,
   "id": "466bdf13",
   "metadata": {},
   "outputs": [],
   "source": [
    "# 5. Trainer\n",
    "trainer = Trainer(\n",
    "    model=model,\n",
    "    args=training_args,\n",
    "    train_dataset=train_dataset,\n",
    ")"
   ]
  },
  {
   "cell_type": "code",
   "execution_count": null,
   "id": "df12ead7",
   "metadata": {},
   "outputs": [],
   "source": [
    "# 6. Eğitimi başlat\n",
    "trainer.train()"
   ]
  },
  {
   "cell_type": "code",
   "execution_count": null,
   "id": "18037b75",
   "metadata": {},
   "outputs": [],
   "source": [
    "# 7. Kayıt\n",
    "model.save_pretrained(\"./blip-finetuned\")\n",
    "processor.save_pretrained(\"./blip-finetuned\")\n",
    "\n",
    "# kaggel için Modeli kaydet\n",
    "#model.save_pretrained(\"/kaggle/working/blip-finetuned\")\n",
    "#processor.save_pretrained(\"/kaggle/working/blip-finetuned\")"
   ]
  }
 ],
 "metadata": {
  "kernelspec": {
   "display_name": "base",
   "language": "python",
   "name": "python3"
  },
  "language_info": {
   "codemirror_mode": {
    "name": "ipython",
    "version": 3
   },
   "file_extension": ".py",
   "mimetype": "text/x-python",
   "name": "python",
   "nbconvert_exporter": "python",
   "pygments_lexer": "ipython3",
   "version": "3.10.15"
  }
 },
 "nbformat": 4,
 "nbformat_minor": 5
}
